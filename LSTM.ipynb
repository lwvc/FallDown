{
  "nbformat": 4,
  "nbformat_minor": 0,
  "metadata": {
    "colab": {
      "provenance": [],
      "mount_file_id": "19hvTsEhREptRaxfC6VFOR9duqvW3lk2k",
      "authorship_tag": "ABX9TyP/uM23M5XsZXZUe1FJ42iH",
      "include_colab_link": true
    },
    "kernelspec": {
      "name": "python3",
      "display_name": "Python 3"
    },
    "language_info": {
      "name": "python"
    }
  },
  "cells": [
    {
      "cell_type": "markdown",
      "metadata": {
        "id": "view-in-github",
        "colab_type": "text"
      },
      "source": [
        "<a href=\"https://colab.research.google.com/github/lwvc/FallDown/blob/main/LSTM.ipynb\" target=\"_parent\"><img src=\"https://colab.research.google.com/assets/colab-badge.svg\" alt=\"Open In Colab\"/></a>"
      ]
    },
    {
      "cell_type": "markdown",
      "source": [
        "# 資料處理"
      ],
      "metadata": {
        "id": "7jD27SxRYwMA"
      }
    },
    {
      "cell_type": "code",
      "source": [
        "import pandas as pd\n",
        "\n",
        "# 讀入資料\n",
        "df = df_interpolated\n",
        "\n",
        "# 加入 seq 欄位（如果有）\n",
        "cols_to_keep = [col for col in df.columns if col.endswith('_x') or col.endswith('_y')]\n",
        "cols_to_keep = ['video', 'frame', 'seq'] + cols_to_keep + ['label']  # 加入 seq\n",
        "\n",
        "# 建立所有抽樣後的序列\n",
        "sequences = []\n",
        "\n",
        "for video, group in df.groupby('video'):\n",
        "    group = group.sort_values('frame').reset_index(drop=True)\n",
        "    total_frames = len(group)\n",
        "\n",
        "    if total_frames < 9:\n",
        "        continue\n",
        "\n",
        "    step = total_frames // 9  # 動態間隔 ex: 18→2, 27→3, 36→4\n",
        "\n",
        "    for offset in range(step):\n",
        "        sampled = group.iloc[offset::step].head(9)\n",
        "        if len(sampled) == 9:\n",
        "            sampled = sampled[cols_to_keep].copy()\n",
        "            sampled['seq_id'] = f\"{video}_start{offset+1}\"\n",
        "            sampled['seq_frame'] = range(1, 10)\n",
        "            sequences.append(sampled)\n",
        "\n",
        "# 合併所有序列\n",
        "result_df = pd.concat(sequences, ignore_index=True)\n",
        "\n",
        "# 輸出檔案\n",
        "result_df.to_csv(\"/content/drive/MyDrive/訓練/data/sequence_9frames_with_seq.csv\", index=False)\n",
        "print(f\"✅ 儲存成功，共有 {result_df['seq_id'].nunique()} 組序列，保留 seq 欄位\")\n"
      ],
      "metadata": {
        "colab": {
          "base_uri": "https://localhost:8080/"
        },
        "id": "sNKTnz-afcfS",
        "outputId": "44cd9c08-61e8-4e30-894d-e385ec80435e"
      },
      "execution_count": null,
      "outputs": [
        {
          "output_type": "stream",
          "name": "stdout",
          "text": [
            "✅ 儲存成功，共有 6049 組序列，保留 seq 欄位\n"
          ]
        }
      ]
    },
    {
      "cell_type": "markdown",
      "source": [
        "# 訓練 LSTM 模型"
      ],
      "metadata": {
        "id": "t0TByPLUTxS8"
      }
    },
    {
      "cell_type": "code",
      "source": [
        "import pandas as pd\n",
        "import numpy as np\n",
        "import matplotlib.pyplot as plt\n",
        "import seaborn as sns\n",
        "import tensorflow as tf\n",
        "from tensorflow.keras.models import Sequential\n",
        "from tensorflow.keras.layers import LSTM, Dense, Dropout\n",
        "from tensorflow.keras.optimizers import Adam\n",
        "from tensorflow.keras.callbacks import EarlyStopping, ReduceLROnPlateau\n",
        "from sklearn.model_selection import train_test_split\n",
        "from sklearn.metrics import classification_report, confusion_matrix, roc_auc_score\n",
        "from sklearn.utils.class_weight import compute_class_weight"
      ],
      "metadata": {
        "id": "e-uVUea4TrVF"
      },
      "execution_count": null,
      "outputs": []
    },
    {
      "cell_type": "markdown",
      "source": [
        "## 輸入訓練資料"
      ],
      "metadata": {
        "id": "bxnt489ytkiI"
      }
    },
    {
      "cell_type": "code",
      "source": [
        "def load_data(file_path):\n",
        "  df = pd.read_csv(file_path)\n",
        "  print(f\"數據形狀: {df.shape}\")\n",
        "\n",
        "  # 檢查是否有缺失值\n",
        "  missing_count = df.isnull().sum().sum()\n",
        "  if missing_count > 0:\n",
        "    print(f\"⚠️發現缺失值，共{missing_count}個，已補0\")\n",
        "    df = df.fillna(0).infer_objects(copy=False)\n",
        "  else:\n",
        "    print(\"✅ 無缺失值\")\n",
        "\n",
        "  # 跌倒(label 5) = 1，非跌倒 = 0\n",
        "  df['fall_label'] = (df['label'] == 5).astype(int)\n",
        "  print(f\"跌倒標籤分布: {df['fall_label'].value_counts().to_dict()}\")\n",
        "  return df\n",
        "df = load_data(\"/content/drive/MyDrive/訓練/data/Data.csv\")"
      ],
      "metadata": {
        "colab": {
          "base_uri": "https://localhost:8080/"
        },
        "collapsed": true,
        "id": "GjN7f0sCU2aq",
        "outputId": "956ef587-6a51-4185-e537-106cba973efd"
      },
      "execution_count": null,
      "outputs": [
        {
          "output_type": "stream",
          "name": "stdout",
          "text": [
            "數據形狀: (54441, 30)\n",
            "⚠️發現缺失值，共1080個，已補0\n",
            "跌倒標籤分布: {0: 43272, 1: 11169}\n"
          ]
        }
      ]
    },
    {
      "cell_type": "code",
      "source": [
        "print(df[df['video'] == 'F02']['right_elbow_x'].head())"
      ],
      "metadata": {
        "colab": {
          "base_uri": "https://localhost:8080/"
        },
        "id": "A1pGeuvsq3IQ",
        "outputId": "fc0e356c-42a1-4422-8bcd-da9f109a221a"
      },
      "execution_count": null,
      "outputs": [
        {
          "output_type": "stream",
          "name": "stdout",
          "text": [
            "36    0.0\n",
            "37    0.0\n",
            "38    0.0\n",
            "39    0.0\n",
            "40    0.0\n",
            "Name: right_elbow_x, dtype: float64\n"
          ]
        }
      ]
    },
    {
      "cell_type": "markdown",
      "source": [
        "## 正規化"
      ],
      "metadata": {
        "id": "PAEZXi-egFHI"
      }
    },
    {
      "cell_type": "code",
      "source": [
        "def normalize_keypoints(df):\n",
        "  # 計算兩個髖關節的中心點\n",
        "  hip_center_x = (df['left_hip_x'] + df['right_hip_x']) / 2\n",
        "  hip_center_y = (df['left_hip_y'] + df['right_hip_y']) / 2\n",
        "\n",
        "  # 所有關鍵點座標欄位\n",
        "  keypoint_cols = [col for col in df.columns if col.endswith('_x') or col.endswith('_y')]\n",
        "\n",
        "  # 以髖關節中心為原點進行正規化\n",
        "  for col in keypoint_cols:\n",
        "    if col.endswith('_x'):\n",
        "        df[col] = df[col] - hip_center_x\n",
        "    elif col.endswith('_y'):\n",
        "        df[col] = df[col] - hip_center_y\n",
        "\n",
        "  print(f\"已完成正規化\")\n",
        "  return df\n",
        "nor_df = normalize_keypoints(df)"
      ],
      "metadata": {
        "colab": {
          "base_uri": "https://localhost:8080/"
        },
        "id": "2tTaoq05bKoU",
        "outputId": "fcac2878-6951-4357-8492-d58221c9671b"
      },
      "execution_count": null,
      "outputs": [
        {
          "output_type": "stream",
          "name": "stdout",
          "text": [
            "已完成正規化\n"
          ]
        }
      ]
    },
    {
      "cell_type": "markdown",
      "source": [
        "## 創建序列數據"
      ],
      "metadata": {
        "id": "AROGVehppFOJ"
      }
    },
    {
      "cell_type": "code",
      "source": [
        "def create_sequences(df):\n",
        "  sequences = []\n",
        "  labels = []\n",
        "\n",
        "  # 提取特徵欄位\n",
        "  feature_cols = [col for col in df.columns if col.endswith('_x') or col.endswith('_y')]\n",
        "\n",
        "  # 按video分組處理\n",
        "  for video in df['video'].unique():\n",
        "    video_data = df[df['video'] == video]\n",
        "    # 找完整的1-9序列\n",
        "    i = 0\n",
        "    while i <= len(video_data) - 9:\n",
        "      seq_data = video_data.iloc[i:i+9]\n",
        "      if list(seq_data['seq']) == list(range(1, 10)):\n",
        "        sequences.append(seq_data[feature_cols].values)\n",
        "        labels.append(seq_data['fall_label'].iloc[-1])\n",
        "        i += 9\n",
        "      else:\n",
        "        i += 1\n",
        "\n",
        "  sequences = np.array(sequences)\n",
        "  labels = np.array(labels)\n",
        "\n",
        "  return sequences, labels\n",
        "\n",
        "X, y = create_sequences(nor_df)"
      ],
      "metadata": {
        "id": "RMGXN_mQdRR6"
      },
      "execution_count": null,
      "outputs": []
    },
    {
      "cell_type": "code",
      "source": [
        "has_nan = np.isnan(X).any()\n",
        "\n",
        "if has_nan:\n",
        "    print(\"⚠️X中包含缺失值 (NaN)\")\n",
        "    nan_count = np.isnan(X).sum()\n",
        "    print(f\"共有 {nan_count} 個 NaN 值\")\n",
        "else:\n",
        "    print(\"✅X中不含缺失值\")"
      ],
      "metadata": {
        "colab": {
          "base_uri": "https://localhost:8080/"
        },
        "id": "RPur4BI2s4mY",
        "outputId": "6646b603-a7df-4954-edb8-092673f862ad"
      },
      "execution_count": null,
      "outputs": [
        {
          "output_type": "stream",
          "name": "stdout",
          "text": [
            "✅X中不含缺失值\n"
          ]
        }
      ]
    },
    {
      "cell_type": "code",
      "source": [
        "print(X.shape)\n",
        "print(y.shape)\n",
        "# print(X[0])\n",
        "print(f\"跌倒: {np.sum(y == 1)}\")\n",
        "print(f\"非跌倒: {np.sum(y == 0)}\")"
      ],
      "metadata": {
        "colab": {
          "base_uri": "https://localhost:8080/"
        },
        "id": "JnwfvcPHlqs8",
        "outputId": "4f3288ef-ebbb-4ced-d8d4-2ecbe4365d27"
      },
      "execution_count": null,
      "outputs": [
        {
          "output_type": "stream",
          "name": "stdout",
          "text": [
            "(6049, 9, 26)\n",
            "(6049,)\n",
            "跌倒: 1241\n",
            "非跌倒: 4808\n"
          ]
        }
      ]
    },
    {
      "cell_type": "markdown",
      "source": [
        "## 分割數據集"
      ],
      "metadata": {
        "id": "Z8m5eTFw-IxL"
      }
    },
    {
      "cell_type": "code",
      "source": [
        "# 訓練和測試\n",
        "X_train, X_test, y_train, y_test = train_test_split(X, y, test_size=0.2, random_state=42, stratify=y)\n",
        "\n",
        "# 訓練和驗證\n",
        "X_train_split, X_val, y_train_split, y_val = train_test_split(X_train, y_train, test_size=0.2, random_state=42, stratify=y_train)\n",
        "\n",
        "print(f\"訓練集: {X_train_split.shape}，驗證集: {X_val.shape}, 測試集: {X_test.shape}\")"
      ],
      "metadata": {
        "colab": {
          "base_uri": "https://localhost:8080/"
        },
        "id": "_6k2Ma7n-M2j",
        "outputId": "f625618c-bcb9-4d54-dd40-b26cc1615360"
      },
      "execution_count": null,
      "outputs": [
        {
          "output_type": "stream",
          "name": "stdout",
          "text": [
            "訓練集: (3871, 9, 26)，驗證集: (968, 9, 26), 測試集: (1210, 9, 26)\n"
          ]
        }
      ]
    },
    {
      "cell_type": "code",
      "source": [
        "has_nan = np.isnan(X_test).any()\n",
        "\n",
        "if has_nan:\n",
        "    print(\"⚠️X中包含缺失值 (NaN)\")\n",
        "    nan_count = np.isnan(X).sum()\n",
        "    print(f\"共有 {nan_count} 個 NaN 值\")\n",
        "else:\n",
        "    print(\"✅X中不含缺失值\")"
      ],
      "metadata": {
        "colab": {
          "base_uri": "https://localhost:8080/"
        },
        "id": "yjPzMv4AtC82",
        "outputId": "6c0960f0-69e5-49e7-f594-1019efba52f9"
      },
      "execution_count": null,
      "outputs": [
        {
          "output_type": "stream",
          "name": "stdout",
          "text": [
            "✅X中不含缺失值\n"
          ]
        }
      ]
    },
    {
      "cell_type": "markdown",
      "source": [
        "## 模型參數、最佳化器、損失函數和評估指標"
      ],
      "metadata": {
        "id": "JshtcEhO5BJM"
      }
    },
    {
      "cell_type": "code",
      "source": [
        "lstm_units = 512\n",
        "dense_units = 32\n",
        "output_units = 1\n",
        "batch_size = 512\n",
        "epochs = 50\n",
        "\n",
        "optimizer = Adam(learning_rate=0.001) #最佳化演算法進行權重更新\n",
        "loss = 'binary_crossentropy'\n",
        "metrics = ['accuracy']"
      ],
      "metadata": {
        "id": "Fya9zFtQ5EDO"
      },
      "execution_count": null,
      "outputs": []
    },
    {
      "cell_type": "markdown",
      "source": [
        "## 創建模型"
      ],
      "metadata": {
        "id": "2UO71G-LpT-A"
      }
    },
    {
      "cell_type": "code",
      "source": [
        "def build_model(input_shape):\n",
        "\n",
        "  model = Sequential([\n",
        "    tf.keras.Input(shape=input_shape),\n",
        "    LSTM(lstm_units, activation='tanh', dropout=0.2),\n",
        "    Dense(dense_units, activation='relu'),\n",
        "    Dropout(0.3),\n",
        "    Dense(output_units, activation='sigmoid')\n",
        "  ])\n",
        "\n",
        "  model.compile(optimizer=optimizer, loss=loss, metrics=metrics)\n",
        "\n",
        "  return model\n",
        "\n",
        "input_shape = (X_train.shape[1], X_train.shape[2])\n",
        "model = build_model(input_shape)"
      ],
      "metadata": {
        "id": "4xOQw72uA0qP"
      },
      "execution_count": null,
      "outputs": []
    },
    {
      "cell_type": "markdown",
      "source": [
        "## 模型結構和參數量"
      ],
      "metadata": {
        "id": "B7b3_rYEBNXG"
      }
    },
    {
      "cell_type": "code",
      "source": [
        "print(f\"模型參數量: {model.count_params()}\")\n",
        "model.summary()"
      ],
      "metadata": {
        "colab": {
          "base_uri": "https://localhost:8080/",
          "height": 285
        },
        "id": "EJ2YS3WpBTkB",
        "outputId": "b70eb333-e8e5-4cc1-8c9c-09a170848355"
      },
      "execution_count": null,
      "outputs": [
        {
          "output_type": "stream",
          "name": "stdout",
          "text": [
            "模型參數量: 1120321\n"
          ]
        },
        {
          "output_type": "display_data",
          "data": {
            "text/plain": [
              "\u001b[1mModel: \"sequential_4\"\u001b[0m\n"
            ],
            "text/html": [
              "<pre style=\"white-space:pre;overflow-x:auto;line-height:normal;font-family:Menlo,'DejaVu Sans Mono',consolas,'Courier New',monospace\"><span style=\"font-weight: bold\">Model: \"sequential_4\"</span>\n",
              "</pre>\n"
            ]
          },
          "metadata": {}
        },
        {
          "output_type": "display_data",
          "data": {
            "text/plain": [
              "┏━━━━━━━━━━━━━━━━━━━━━━━━━━━━━━━━━┳━━━━━━━━━━━━━━━━━━━━━━━━┳━━━━━━━━━━━━━━━┓\n",
              "┃\u001b[1m \u001b[0m\u001b[1mLayer (type)                   \u001b[0m\u001b[1m \u001b[0m┃\u001b[1m \u001b[0m\u001b[1mOutput Shape          \u001b[0m\u001b[1m \u001b[0m┃\u001b[1m \u001b[0m\u001b[1m      Param #\u001b[0m\u001b[1m \u001b[0m┃\n",
              "┡━━━━━━━━━━━━━━━━━━━━━━━━━━━━━━━━━╇━━━━━━━━━━━━━━━━━━━━━━━━╇━━━━━━━━━━━━━━━┩\n",
              "│ lstm_4 (\u001b[38;5;33mLSTM\u001b[0m)                   │ (\u001b[38;5;45mNone\u001b[0m, \u001b[38;5;34m512\u001b[0m)            │     \u001b[38;5;34m1,103,872\u001b[0m │\n",
              "├─────────────────────────────────┼────────────────────────┼───────────────┤\n",
              "│ dense_8 (\u001b[38;5;33mDense\u001b[0m)                 │ (\u001b[38;5;45mNone\u001b[0m, \u001b[38;5;34m32\u001b[0m)             │        \u001b[38;5;34m16,416\u001b[0m │\n",
              "├─────────────────────────────────┼────────────────────────┼───────────────┤\n",
              "│ dropout_4 (\u001b[38;5;33mDropout\u001b[0m)             │ (\u001b[38;5;45mNone\u001b[0m, \u001b[38;5;34m32\u001b[0m)             │             \u001b[38;5;34m0\u001b[0m │\n",
              "├─────────────────────────────────┼────────────────────────┼───────────────┤\n",
              "│ dense_9 (\u001b[38;5;33mDense\u001b[0m)                 │ (\u001b[38;5;45mNone\u001b[0m, \u001b[38;5;34m1\u001b[0m)              │            \u001b[38;5;34m33\u001b[0m │\n",
              "└─────────────────────────────────┴────────────────────────┴───────────────┘\n"
            ],
            "text/html": [
              "<pre style=\"white-space:pre;overflow-x:auto;line-height:normal;font-family:Menlo,'DejaVu Sans Mono',consolas,'Courier New',monospace\">┏━━━━━━━━━━━━━━━━━━━━━━━━━━━━━━━━━┳━━━━━━━━━━━━━━━━━━━━━━━━┳━━━━━━━━━━━━━━━┓\n",
              "┃<span style=\"font-weight: bold\"> Layer (type)                    </span>┃<span style=\"font-weight: bold\"> Output Shape           </span>┃<span style=\"font-weight: bold\">       Param # </span>┃\n",
              "┡━━━━━━━━━━━━━━━━━━━━━━━━━━━━━━━━━╇━━━━━━━━━━━━━━━━━━━━━━━━╇━━━━━━━━━━━━━━━┩\n",
              "│ lstm_4 (<span style=\"color: #0087ff; text-decoration-color: #0087ff\">LSTM</span>)                   │ (<span style=\"color: #00d7ff; text-decoration-color: #00d7ff\">None</span>, <span style=\"color: #00af00; text-decoration-color: #00af00\">512</span>)            │     <span style=\"color: #00af00; text-decoration-color: #00af00\">1,103,872</span> │\n",
              "├─────────────────────────────────┼────────────────────────┼───────────────┤\n",
              "│ dense_8 (<span style=\"color: #0087ff; text-decoration-color: #0087ff\">Dense</span>)                 │ (<span style=\"color: #00d7ff; text-decoration-color: #00d7ff\">None</span>, <span style=\"color: #00af00; text-decoration-color: #00af00\">32</span>)             │        <span style=\"color: #00af00; text-decoration-color: #00af00\">16,416</span> │\n",
              "├─────────────────────────────────┼────────────────────────┼───────────────┤\n",
              "│ dropout_4 (<span style=\"color: #0087ff; text-decoration-color: #0087ff\">Dropout</span>)             │ (<span style=\"color: #00d7ff; text-decoration-color: #00d7ff\">None</span>, <span style=\"color: #00af00; text-decoration-color: #00af00\">32</span>)             │             <span style=\"color: #00af00; text-decoration-color: #00af00\">0</span> │\n",
              "├─────────────────────────────────┼────────────────────────┼───────────────┤\n",
              "│ dense_9 (<span style=\"color: #0087ff; text-decoration-color: #0087ff\">Dense</span>)                 │ (<span style=\"color: #00d7ff; text-decoration-color: #00d7ff\">None</span>, <span style=\"color: #00af00; text-decoration-color: #00af00\">1</span>)              │            <span style=\"color: #00af00; text-decoration-color: #00af00\">33</span> │\n",
              "└─────────────────────────────────┴────────────────────────┴───────────────┘\n",
              "</pre>\n"
            ]
          },
          "metadata": {}
        },
        {
          "output_type": "display_data",
          "data": {
            "text/plain": [
              "\u001b[1m Total params: \u001b[0m\u001b[38;5;34m1,120,321\u001b[0m (4.27 MB)\n"
            ],
            "text/html": [
              "<pre style=\"white-space:pre;overflow-x:auto;line-height:normal;font-family:Menlo,'DejaVu Sans Mono',consolas,'Courier New',monospace\"><span style=\"font-weight: bold\"> Total params: </span><span style=\"color: #00af00; text-decoration-color: #00af00\">1,120,321</span> (4.27 MB)\n",
              "</pre>\n"
            ]
          },
          "metadata": {}
        },
        {
          "output_type": "display_data",
          "data": {
            "text/plain": [
              "\u001b[1m Trainable params: \u001b[0m\u001b[38;5;34m1,120,321\u001b[0m (4.27 MB)\n"
            ],
            "text/html": [
              "<pre style=\"white-space:pre;overflow-x:auto;line-height:normal;font-family:Menlo,'DejaVu Sans Mono',consolas,'Courier New',monospace\"><span style=\"font-weight: bold\"> Trainable params: </span><span style=\"color: #00af00; text-decoration-color: #00af00\">1,120,321</span> (4.27 MB)\n",
              "</pre>\n"
            ]
          },
          "metadata": {}
        },
        {
          "output_type": "display_data",
          "data": {
            "text/plain": [
              "\u001b[1m Non-trainable params: \u001b[0m\u001b[38;5;34m0\u001b[0m (0.00 B)\n"
            ],
            "text/html": [
              "<pre style=\"white-space:pre;overflow-x:auto;line-height:normal;font-family:Menlo,'DejaVu Sans Mono',consolas,'Courier New',monospace\"><span style=\"font-weight: bold\"> Non-trainable params: </span><span style=\"color: #00af00; text-decoration-color: #00af00\">0</span> (0.00 B)\n",
              "</pre>\n"
            ]
          },
          "metadata": {}
        }
      ]
    },
    {
      "cell_type": "markdown",
      "source": [
        "## 權重處理"
      ],
      "metadata": {
        "id": "YZVPg4OR_6cZ"
      }
    },
    {
      "cell_type": "code",
      "source": [
        "def get_class_weights(y_train):\n",
        "  classes = np.unique(y_train)\n",
        "  weights = compute_class_weight('balanced', classes=classes, y=y_train)\n",
        "  class_weights = dict(zip(classes, weights)) # 自動平衡比重\n",
        "  print(f\"類別權重: {class_weights}\")\n",
        "  return class_weights\n",
        "class_weights = get_class_weights(y_train)"
      ],
      "metadata": {
        "colab": {
          "base_uri": "https://localhost:8080/"
        },
        "id": "Nvun1T3H_-lE",
        "outputId": "bd0dcecb-b234-49e6-ff54-93a6785c81c2"
      },
      "execution_count": null,
      "outputs": [
        {
          "output_type": "stream",
          "name": "stdout",
          "text": [
            "類別權重: {np.int64(0): np.float64(0.6290951638065523), np.int64(1): np.float64(2.4365558912386707)}\n"
          ]
        }
      ]
    },
    {
      "cell_type": "markdown",
      "source": [
        "## 訓練模型"
      ],
      "metadata": {
        "id": "WTEQaQWFFDSq"
      }
    },
    {
      "cell_type": "code",
      "source": [
        "# 回調函數\n",
        "callbacks = [\n",
        "    EarlyStopping(monitor='val_loss', patience=10, restore_best_weights=True), #如果連續10輪驗證損失沒有進步就停止訓練，回復最好的權重\n",
        "    ReduceLROnPlateau(monitor='val_loss', factor=0.5, patience=5, min_lr=1e-6) #如果連續5輪驗證損失沒改善將學習率減半\n",
        "]\n",
        "\n",
        "# 訓練\n",
        "history = model.fit(X_train, y_train,validation_data=(X_val, y_val), epochs=epochs,batch_size=batch_size, class_weight=class_weights, callbacks=callbacks, verbose=1)"
      ],
      "metadata": {
        "colab": {
          "base_uri": "https://localhost:8080/"
        },
        "id": "Al8NLX8mFCqM",
        "outputId": "7e5b45f4-3bae-46ca-c722-ac6c4023c199"
      },
      "execution_count": null,
      "outputs": [
        {
          "output_type": "stream",
          "name": "stdout",
          "text": [
            "Epoch 1/50\n",
            "\u001b[1m10/10\u001b[0m \u001b[32m━━━━━━━━━━━━━━━━━━━━\u001b[0m\u001b[37m\u001b[0m \u001b[1m12s\u001b[0m 677ms/step - accuracy: 0.6583 - loss: 0.6663 - val_accuracy: 0.8306 - val_loss: 0.5057 - learning_rate: 0.0010\n",
            "Epoch 2/50\n",
            "\u001b[1m10/10\u001b[0m \u001b[32m━━━━━━━━━━━━━━━━━━━━\u001b[0m\u001b[37m\u001b[0m \u001b[1m11s\u001b[0m 727ms/step - accuracy: 0.7169 - loss: 0.5346 - val_accuracy: 0.8368 - val_loss: 0.3791 - learning_rate: 0.0010\n",
            "Epoch 3/50\n",
            "\u001b[1m10/10\u001b[0m \u001b[32m━━━━━━━━━━━━━━━━━━━━\u001b[0m\u001b[37m\u001b[0m \u001b[1m6s\u001b[0m 635ms/step - accuracy: 0.8330 - loss: 0.3583 - val_accuracy: 0.9029 - val_loss: 0.2521 - learning_rate: 0.0010\n",
            "Epoch 4/50\n",
            "\u001b[1m10/10\u001b[0m \u001b[32m━━━━━━━━━━━━━━━━━━━━\u001b[0m\u001b[37m\u001b[0m \u001b[1m10s\u001b[0m 614ms/step - accuracy: 0.8495 - loss: 0.4355 - val_accuracy: 0.9236 - val_loss: 0.2870 - learning_rate: 0.0010\n",
            "Epoch 5/50\n",
            "\u001b[1m10/10\u001b[0m \u001b[32m━━━━━━━━━━━━━━━━━━━━\u001b[0m\u001b[37m\u001b[0m \u001b[1m8s\u001b[0m 827ms/step - accuracy: 0.8984 - loss: 0.3583 - val_accuracy: 0.8781 - val_loss: 0.3416 - learning_rate: 0.0010\n",
            "Epoch 6/50\n",
            "\u001b[1m10/10\u001b[0m \u001b[32m━━━━━━━━━━━━━━━━━━━━\u001b[0m\u001b[37m\u001b[0m \u001b[1m9s\u001b[0m 637ms/step - accuracy: 0.8764 - loss: 0.2856 - val_accuracy: 0.9122 - val_loss: 0.2557 - learning_rate: 0.0010\n",
            "Epoch 7/50\n",
            "\u001b[1m10/10\u001b[0m \u001b[32m━━━━━━━━━━━━━━━━━━━━\u001b[0m\u001b[37m\u001b[0m \u001b[1m9s\u001b[0m 893ms/step - accuracy: 0.8997 - loss: 0.2374 - val_accuracy: 0.9504 - val_loss: 0.1512 - learning_rate: 0.0010\n",
            "Epoch 8/50\n",
            "\u001b[1m10/10\u001b[0m \u001b[32m━━━━━━━━━━━━━━━━━━━━\u001b[0m\u001b[37m\u001b[0m \u001b[1m10s\u001b[0m 841ms/step - accuracy: 0.9277 - loss: 0.2404 - val_accuracy: 0.9029 - val_loss: 0.2847 - learning_rate: 0.0010\n",
            "Epoch 9/50\n",
            "\u001b[1m10/10\u001b[0m \u001b[32m━━━━━━━━━━━━━━━━━━━━\u001b[0m\u001b[37m\u001b[0m \u001b[1m6s\u001b[0m 616ms/step - accuracy: 0.8948 - loss: 0.2607 - val_accuracy: 0.9318 - val_loss: 0.2456 - learning_rate: 0.0010\n",
            "Epoch 10/50\n",
            "\u001b[1m10/10\u001b[0m \u001b[32m━━━━━━━━━━━━━━━━━━━━\u001b[0m\u001b[37m\u001b[0m \u001b[1m8s\u001b[0m 823ms/step - accuracy: 0.9288 - loss: 0.2365 - val_accuracy: 0.9298 - val_loss: 0.2585 - learning_rate: 0.0010\n",
            "Epoch 11/50\n",
            "\u001b[1m10/10\u001b[0m \u001b[32m━━━━━━━━━━━━━━━━━━━━\u001b[0m\u001b[37m\u001b[0m \u001b[1m9s\u001b[0m 641ms/step - accuracy: 0.9298 - loss: 0.2378 - val_accuracy: 0.9360 - val_loss: 0.2085 - learning_rate: 0.0010\n",
            "Epoch 12/50\n",
            "\u001b[1m10/10\u001b[0m \u001b[32m━━━━━━━━━━━━━━━━━━━━\u001b[0m\u001b[37m\u001b[0m \u001b[1m8s\u001b[0m 828ms/step - accuracy: 0.9204 - loss: 0.2141 - val_accuracy: 0.9545 - val_loss: 0.1475 - learning_rate: 0.0010\n",
            "Epoch 13/50\n",
            "\u001b[1m10/10\u001b[0m \u001b[32m━━━━━━━━━━━━━━━━━━━━\u001b[0m\u001b[37m\u001b[0m \u001b[1m10s\u001b[0m 748ms/step - accuracy: 0.9461 - loss: 0.1840 - val_accuracy: 0.9638 - val_loss: 0.1255 - learning_rate: 0.0010\n",
            "Epoch 14/50\n",
            "\u001b[1m10/10\u001b[0m \u001b[32m━━━━━━━━━━━━━━━━━━━━\u001b[0m\u001b[37m\u001b[0m \u001b[1m7s\u001b[0m 648ms/step - accuracy: 0.9461 - loss: 0.1730 - val_accuracy: 0.9597 - val_loss: 0.1326 - learning_rate: 0.0010\n",
            "Epoch 15/50\n",
            "\u001b[1m10/10\u001b[0m \u001b[32m━━━━━━━━━━━━━━━━━━━━\u001b[0m\u001b[37m\u001b[0m \u001b[1m11s\u001b[0m 829ms/step - accuracy: 0.9506 - loss: 0.1730 - val_accuracy: 0.9659 - val_loss: 0.1163 - learning_rate: 0.0010\n",
            "Epoch 16/50\n",
            "\u001b[1m10/10\u001b[0m \u001b[32m━━━━━━━━━━━━━━━━━━━━\u001b[0m\u001b[37m\u001b[0m \u001b[1m8s\u001b[0m 635ms/step - accuracy: 0.9465 - loss: 0.1936 - val_accuracy: 0.9711 - val_loss: 0.1030 - learning_rate: 0.0010\n",
            "Epoch 17/50\n",
            "\u001b[1m10/10\u001b[0m \u001b[32m━━━━━━━━━━━━━━━━━━━━\u001b[0m\u001b[37m\u001b[0m \u001b[1m10s\u001b[0m 641ms/step - accuracy: 0.9419 - loss: 0.1966 - val_accuracy: 0.9659 - val_loss: 0.1290 - learning_rate: 0.0010\n",
            "Epoch 18/50\n",
            "\u001b[1m10/10\u001b[0m \u001b[32m━━━━━━━━━━━━━━━━━━━━\u001b[0m\u001b[37m\u001b[0m \u001b[1m10s\u001b[0m 620ms/step - accuracy: 0.9464 - loss: 0.1707 - val_accuracy: 0.9618 - val_loss: 0.1406 - learning_rate: 0.0010\n",
            "Epoch 19/50\n",
            "\u001b[1m10/10\u001b[0m \u001b[32m━━━━━━━━━━━━━━━━━━━━\u001b[0m\u001b[37m\u001b[0m \u001b[1m12s\u001b[0m 847ms/step - accuracy: 0.9471 - loss: 0.1573 - val_accuracy: 0.9659 - val_loss: 0.1051 - learning_rate: 0.0010\n",
            "Epoch 20/50\n",
            "\u001b[1m10/10\u001b[0m \u001b[32m━━━━━━━━━━━━━━━━━━━━\u001b[0m\u001b[37m\u001b[0m \u001b[1m10s\u001b[0m 787ms/step - accuracy: 0.9439 - loss: 0.1647 - val_accuracy: 0.9721 - val_loss: 0.1166 - learning_rate: 0.0010\n",
            "Epoch 21/50\n",
            "\u001b[1m10/10\u001b[0m \u001b[32m━━━━━━━━━━━━━━━━━━━━\u001b[0m\u001b[37m\u001b[0m \u001b[1m9s\u001b[0m 648ms/step - accuracy: 0.9495 - loss: 0.1690 - val_accuracy: 0.9752 - val_loss: 0.0879 - learning_rate: 0.0010\n",
            "Epoch 22/50\n",
            "\u001b[1m10/10\u001b[0m \u001b[32m━━━━━━━━━━━━━━━━━━━━\u001b[0m\u001b[37m\u001b[0m \u001b[1m10s\u001b[0m 643ms/step - accuracy: 0.9514 - loss: 0.1605 - val_accuracy: 0.9700 - val_loss: 0.1110 - learning_rate: 0.0010\n",
            "Epoch 23/50\n",
            "\u001b[1m10/10\u001b[0m \u001b[32m━━━━━━━━━━━━━━━━━━━━\u001b[0m\u001b[37m\u001b[0m \u001b[1m12s\u001b[0m 758ms/step - accuracy: 0.9543 - loss: 0.1439 - val_accuracy: 0.9690 - val_loss: 0.1158 - learning_rate: 0.0010\n",
            "Epoch 24/50\n",
            "\u001b[1m10/10\u001b[0m \u001b[32m━━━━━━━━━━━━━━━━━━━━\u001b[0m\u001b[37m\u001b[0m \u001b[1m6s\u001b[0m 614ms/step - accuracy: 0.9488 - loss: 0.1436 - val_accuracy: 0.9773 - val_loss: 0.0932 - learning_rate: 0.0010\n",
            "Epoch 25/50\n",
            "\u001b[1m10/10\u001b[0m \u001b[32m━━━━━━━━━━━━━━━━━━━━\u001b[0m\u001b[37m\u001b[0m \u001b[1m10s\u001b[0m 617ms/step - accuracy: 0.9630 - loss: 0.1367 - val_accuracy: 0.9783 - val_loss: 0.0783 - learning_rate: 0.0010\n",
            "Epoch 26/50\n",
            "\u001b[1m10/10\u001b[0m \u001b[32m━━━━━━━━━━━━━━━━━━━━\u001b[0m\u001b[37m\u001b[0m \u001b[1m11s\u001b[0m 676ms/step - accuracy: 0.9652 - loss: 0.1179 - val_accuracy: 0.9824 - val_loss: 0.0738 - learning_rate: 0.0010\n",
            "Epoch 27/50\n",
            "\u001b[1m10/10\u001b[0m \u001b[32m━━━━━━━━━━━━━━━━━━━━\u001b[0m\u001b[37m\u001b[0m \u001b[1m11s\u001b[0m 801ms/step - accuracy: 0.9576 - loss: 0.1432 - val_accuracy: 0.9773 - val_loss: 0.0969 - learning_rate: 0.0010\n",
            "Epoch 28/50\n",
            "\u001b[1m10/10\u001b[0m \u001b[32m━━━━━━━━━━━━━━━━━━━━\u001b[0m\u001b[37m\u001b[0m \u001b[1m6s\u001b[0m 641ms/step - accuracy: 0.9589 - loss: 0.1405 - val_accuracy: 0.9783 - val_loss: 0.1118 - learning_rate: 0.0010\n",
            "Epoch 29/50\n",
            "\u001b[1m10/10\u001b[0m \u001b[32m━━━━━━━━━━━━━━━━━━━━\u001b[0m\u001b[37m\u001b[0m \u001b[1m10s\u001b[0m 644ms/step - accuracy: 0.9494 - loss: 0.1522 - val_accuracy: 0.9773 - val_loss: 0.0879 - learning_rate: 0.0010\n",
            "Epoch 30/50\n",
            "\u001b[1m10/10\u001b[0m \u001b[32m━━━━━━━━━━━━━━━━━━━━\u001b[0m\u001b[37m\u001b[0m \u001b[1m12s\u001b[0m 834ms/step - accuracy: 0.9590 - loss: 0.1407 - val_accuracy: 0.9762 - val_loss: 0.0834 - learning_rate: 0.0010\n",
            "Epoch 31/50\n",
            "\u001b[1m10/10\u001b[0m \u001b[32m━━━━━━━━━━━━━━━━━━━━\u001b[0m\u001b[37m\u001b[0m \u001b[1m9s\u001b[0m 708ms/step - accuracy: 0.9582 - loss: 0.1282 - val_accuracy: 0.9814 - val_loss: 0.0720 - learning_rate: 0.0010\n",
            "Epoch 32/50\n",
            "\u001b[1m10/10\u001b[0m \u001b[32m━━━━━━━━━━━━━━━━━━━━\u001b[0m\u001b[37m\u001b[0m \u001b[1m9s\u001b[0m 617ms/step - accuracy: 0.9633 - loss: 0.1191 - val_accuracy: 0.9835 - val_loss: 0.0664 - learning_rate: 0.0010\n",
            "Epoch 33/50\n",
            "\u001b[1m10/10\u001b[0m \u001b[32m━━━━━━━━━━━━━━━━━━━━\u001b[0m\u001b[37m\u001b[0m \u001b[1m10s\u001b[0m 635ms/step - accuracy: 0.9654 - loss: 0.1285 - val_accuracy: 0.9835 - val_loss: 0.0657 - learning_rate: 0.0010\n",
            "Epoch 34/50\n",
            "\u001b[1m10/10\u001b[0m \u001b[32m━━━━━━━━━━━━━━━━━━━━\u001b[0m\u001b[37m\u001b[0m \u001b[1m12s\u001b[0m 744ms/step - accuracy: 0.9616 - loss: 0.1162 - val_accuracy: 0.9835 - val_loss: 0.0644 - learning_rate: 0.0010\n",
            "Epoch 35/50\n",
            "\u001b[1m10/10\u001b[0m \u001b[32m━━━━━━━━━━━━━━━━━━━━\u001b[0m\u001b[37m\u001b[0m \u001b[1m10s\u001b[0m 821ms/step - accuracy: 0.9679 - loss: 0.1098 - val_accuracy: 0.9824 - val_loss: 0.0660 - learning_rate: 0.0010\n",
            "Epoch 36/50\n",
            "\u001b[1m10/10\u001b[0m \u001b[32m━━━━━━━━━━━━━━━━━━━━\u001b[0m\u001b[37m\u001b[0m \u001b[1m8s\u001b[0m 610ms/step - accuracy: 0.9641 - loss: 0.1177 - val_accuracy: 0.9793 - val_loss: 0.0753 - learning_rate: 0.0010\n",
            "Epoch 37/50\n",
            "\u001b[1m10/10\u001b[0m \u001b[32m━━━━━━━━━━━━━━━━━━━━\u001b[0m\u001b[37m\u001b[0m \u001b[1m10s\u001b[0m 613ms/step - accuracy: 0.9643 - loss: 0.1139 - val_accuracy: 0.9845 - val_loss: 0.0629 - learning_rate: 0.0010\n",
            "Epoch 38/50\n",
            "\u001b[1m10/10\u001b[0m \u001b[32m━━━━━━━━━━━━━━━━━━━━\u001b[0m\u001b[37m\u001b[0m \u001b[1m12s\u001b[0m 726ms/step - accuracy: 0.9656 - loss: 0.1157 - val_accuracy: 0.9845 - val_loss: 0.0598 - learning_rate: 0.0010\n",
            "Epoch 39/50\n",
            "\u001b[1m10/10\u001b[0m \u001b[32m━━━━━━━━━━━━━━━━━━━━\u001b[0m\u001b[37m\u001b[0m \u001b[1m6s\u001b[0m 621ms/step - accuracy: 0.9698 - loss: 0.1141 - val_accuracy: 0.9845 - val_loss: 0.0651 - learning_rate: 0.0010\n",
            "Epoch 40/50\n",
            "\u001b[1m10/10\u001b[0m \u001b[32m━━━━━━━━━━━━━━━━━━━━\u001b[0m\u001b[37m\u001b[0m \u001b[1m10s\u001b[0m 618ms/step - accuracy: 0.9643 - loss: 0.1035 - val_accuracy: 0.9804 - val_loss: 0.0643 - learning_rate: 0.0010\n",
            "Epoch 41/50\n",
            "\u001b[1m10/10\u001b[0m \u001b[32m━━━━━━━━━━━━━━━━━━━━\u001b[0m\u001b[37m\u001b[0m \u001b[1m11s\u001b[0m 614ms/step - accuracy: 0.9636 - loss: 0.1046 - val_accuracy: 0.9804 - val_loss: 0.0665 - learning_rate: 0.0010\n",
            "Epoch 42/50\n",
            "\u001b[1m10/10\u001b[0m \u001b[32m━━━━━━━━━━━━━━━━━━━━\u001b[0m\u001b[37m\u001b[0m \u001b[1m12s\u001b[0m 823ms/step - accuracy: 0.9702 - loss: 0.0986 - val_accuracy: 0.9835 - val_loss: 0.0564 - learning_rate: 0.0010\n",
            "Epoch 43/50\n",
            "\u001b[1m10/10\u001b[0m \u001b[32m━━━━━━━━━━━━━━━━━━━━\u001b[0m\u001b[37m\u001b[0m \u001b[1m9s\u001b[0m 716ms/step - accuracy: 0.9661 - loss: 0.1124 - val_accuracy: 0.9866 - val_loss: 0.0604 - learning_rate: 0.0010\n",
            "Epoch 44/50\n",
            "\u001b[1m10/10\u001b[0m \u001b[32m━━━━━━━━━━━━━━━━━━━━\u001b[0m\u001b[37m\u001b[0m \u001b[1m9s\u001b[0m 617ms/step - accuracy: 0.9678 - loss: 0.1074 - val_accuracy: 0.9804 - val_loss: 0.0682 - learning_rate: 0.0010\n",
            "Epoch 45/50\n",
            "\u001b[1m10/10\u001b[0m \u001b[32m━━━━━━━━━━━━━━━━━━━━\u001b[0m\u001b[37m\u001b[0m \u001b[1m11s\u001b[0m 636ms/step - accuracy: 0.9698 - loss: 0.0991 - val_accuracy: 0.9793 - val_loss: 0.0827 - learning_rate: 0.0010\n",
            "Epoch 46/50\n",
            "\u001b[1m10/10\u001b[0m \u001b[32m━━━━━━━━━━━━━━━━━━━━\u001b[0m\u001b[37m\u001b[0m \u001b[1m8s\u001b[0m 763ms/step - accuracy: 0.9655 - loss: 0.1047 - val_accuracy: 0.9814 - val_loss: 0.0585 - learning_rate: 0.0010\n",
            "Epoch 47/50\n",
            "\u001b[1m10/10\u001b[0m \u001b[32m━━━━━━━━━━━━━━━━━━━━\u001b[0m\u001b[37m\u001b[0m \u001b[1m7s\u001b[0m 618ms/step - accuracy: 0.9680 - loss: 0.1020 - val_accuracy: 0.9793 - val_loss: 0.0648 - learning_rate: 0.0010\n",
            "Epoch 48/50\n",
            "\u001b[1m10/10\u001b[0m \u001b[32m━━━━━━━━━━━━━━━━━━━━\u001b[0m\u001b[37m\u001b[0m \u001b[1m12s\u001b[0m 829ms/step - accuracy: 0.9727 - loss: 0.0944 - val_accuracy: 0.9824 - val_loss: 0.0604 - learning_rate: 5.0000e-04\n",
            "Epoch 49/50\n",
            "\u001b[1m10/10\u001b[0m \u001b[32m━━━━━━━━━━━━━━━━━━━━\u001b[0m\u001b[37m\u001b[0m \u001b[1m9s\u001b[0m 718ms/step - accuracy: 0.9702 - loss: 0.0929 - val_accuracy: 0.9845 - val_loss: 0.0576 - learning_rate: 5.0000e-04\n",
            "Epoch 50/50\n",
            "\u001b[1m10/10\u001b[0m \u001b[32m━━━━━━━━━━━━━━━━━━━━\u001b[0m\u001b[37m\u001b[0m \u001b[1m10s\u001b[0m 642ms/step - accuracy: 0.9703 - loss: 0.0929 - val_accuracy: 0.9783 - val_loss: 0.0807 - learning_rate: 5.0000e-04\n"
          ]
        }
      ]
    },
    {
      "cell_type": "markdown",
      "source": [
        "## 評估模型"
      ],
      "metadata": {
        "id": "ukG0XYt_Ef7O"
      }
    },
    {
      "cell_type": "code",
      "source": [
        "def evaluate_model(model, X_test, y_test):\n",
        "  # 預測\n",
        "  y_pred_prob = model.predict(X_test, verbose=0)\n",
        "  y_pred = (y_pred_prob > 0.5).astype(int).flatten()\n",
        "\n",
        "  # 基本指標\n",
        "  test_loss, test_acc = model.evaluate(X_test, y_test, verbose=0)\n",
        "  auc_score = roc_auc_score(y_test, y_pred_prob)\n",
        "\n",
        "  print(f\"測試準確率: {test_acc:.4f}\")\n",
        "  print(f\"測試損失: {test_loss:.4f}\")\n",
        "  print(f\"AUC分數: {auc_score:.4f}\")\n",
        "\n",
        "  # 分類報告\n",
        "  print(\"\\n分類報告:\")\n",
        "  print(classification_report(y_test, y_pred, target_names=['非跌倒', '跌倒']))\n",
        "\n",
        "  return y_pred, y_pred_prob\n",
        "\n",
        "y_pred, y_pred_prob = evaluate_model(model, X_test, y_test)"
      ],
      "metadata": {
        "colab": {
          "base_uri": "https://localhost:8080/"
        },
        "id": "yJh6P8INEhvC",
        "outputId": "32260c88-5f30-4f07-ed21-40f61859a4c9"
      },
      "execution_count": null,
      "outputs": [
        {
          "output_type": "stream",
          "name": "stdout",
          "text": [
            "測試準確率: 0.9752\n",
            "測試損失: 0.0664\n",
            "AUC分數: 0.9942\n",
            "\n",
            "分類報告:\n",
            "              precision    recall  f1-score   support\n",
            "\n",
            "         非跌倒       0.98      0.99      0.98       962\n",
            "          跌倒       0.95      0.93      0.94       248\n",
            "\n",
            "    accuracy                           0.98      1210\n",
            "   macro avg       0.96      0.96      0.96      1210\n",
            "weighted avg       0.98      0.98      0.98      1210\n",
            "\n"
          ]
        }
      ]
    },
    {
      "cell_type": "code",
      "source": [
        "def plot_training_curves(history):\n",
        "  \"\"\"繪製訓練曲線\"\"\"\n",
        "  fig, (ax1, ax2) = plt.subplots(1, 2, figsize=(12, 4))\n",
        "\n",
        "  # 損失曲線\n",
        "  ax1.plot(history.history['loss'], 'b-', label='Training Loss', linewidth=2)\n",
        "  ax1.plot(history.history['val_loss'], 'r-', label='Validation Loss', linewidth=2)\n",
        "  ax1.set_title('Training and Validation Loss', fontweight='bold')\n",
        "  ax1.set_xlabel('Epoch')\n",
        "  ax1.set_ylabel('Loss')\n",
        "  ax1.legend()\n",
        "  ax1.grid(True, alpha=0.3)\n",
        "\n",
        "  # 準確率曲線\n",
        "  ax2.plot(history.history['accuracy'], 'b-', label='Training Accuracy', linewidth=2)\n",
        "  ax2.plot(history.history['val_accuracy'], 'r-', label='Validation Accuracy', linewidth=2)\n",
        "  ax2.set_title('Training and Validation Accuracy', fontweight='bold')\n",
        "  ax2.set_xlabel('Epoch')\n",
        "  ax2.set_ylabel('Accuracy')\n",
        "  ax2.legend()\n",
        "  ax2.grid(True, alpha=0.3)\n",
        "\n",
        "  plt.tight_layout()\n",
        "  plt.show()\n",
        "plot_training_curves(history)"
      ],
      "metadata": {
        "colab": {
          "base_uri": "https://localhost:8080/",
          "height": 407
        },
        "id": "dN9LB2qhMBIG",
        "outputId": "09fe56e1-ff85-4327-9a3d-a1ed21c191f9"
      },
      "execution_count": null,
      "outputs": [
        {
          "output_type": "display_data",
          "data": {
            "text/plain": [
              "<Figure size 1200x400 with 2 Axes>"
            ],
            "image/png": "[encoded data removed]"
          },
          "metadata": {}
        }
      ]
    },
    {
      "cell_type": "code",
      "source": [
        "def plot_confusion_matrix(y_true, y_pred):\n",
        "  \"\"\"繪製混淆矩陣\"\"\"\n",
        "  cm = confusion_matrix(y_true, y_pred)\n",
        "\n",
        "  plt.figure(figsize=(8, 6))\n",
        "  sns.heatmap(cm, annot=True, fmt='d', cmap='Blues',\n",
        "              xticklabels=['非跌倒', '跌倒'],\n",
        "              yticklabels=['非跌倒', '跌倒'])\n",
        "  plt.title('Confusion Matrix', fontsize=16, fontweight='bold')\n",
        "  plt.xlabel('Predicted Label')\n",
        "  plt.ylabel('True Label')\n",
        "  plt.show()\n",
        "\n",
        "  # 輸出數值\n",
        "  tn, fp, fn, tp = cm.ravel()\n",
        "  print(f\"\\n混淆矩陣結果:\")\n",
        "  print(f\"真負例(TN): {tn:,}\")\n",
        "  print(f\"假正例(FP): {fp:,}\")\n",
        "  print(f\"假負例(FN): {fn:,}\")\n",
        "  print(f\"真正例(TP): {tp:,}\")\n",
        "plot_confusion_matrix(y_test, y_pred)"
      ],
      "metadata": {
        "colab": {
          "base_uri": "https://localhost:8080/",
          "height": 878
        },
        "id": "RROlSK8jMCu4",
        "outputId": "71de6861-a2c1-4ad4-aeff-08b45e7016af"
      },
      "execution_count": null,
      "outputs": [
        {
          "output_type": "stream",
          "name": "stderr",
          "text": [
            "/usr/local/lib/python3.11/dist-packages/seaborn/utils.py:61: UserWarning: Glyph 38750 (\\N{CJK UNIFIED IDEOGRAPH-975E}) missing from font(s) DejaVu Sans.\n",
            "  fig.canvas.draw()\n",
            "/usr/local/lib/python3.11/dist-packages/seaborn/utils.py:61: UserWarning: Glyph 36300 (\\N{CJK UNIFIED IDEOGRAPH-8DCC}) missing from font(s) DejaVu Sans.\n",
            "  fig.canvas.draw()\n",
            "/usr/local/lib/python3.11/dist-packages/seaborn/utils.py:61: UserWarning: Glyph 20498 (\\N{CJK UNIFIED IDEOGRAPH-5012}) missing from font(s) DejaVu Sans.\n",
            "  fig.canvas.draw()\n",
            "/usr/local/lib/python3.11/dist-packages/IPython/core/pylabtools.py:151: UserWarning: Glyph 38750 (\\N{CJK UNIFIED IDEOGRAPH-975E}) missing from font(s) DejaVu Sans.\n",
            "  fig.canvas.print_figure(bytes_io, **kw)\n",
            "/usr/local/lib/python3.11/dist-packages/IPython/core/pylabtools.py:151: UserWarning: Glyph 36300 (\\N{CJK UNIFIED IDEOGRAPH-8DCC}) missing from font(s) DejaVu Sans.\n",
            "  fig.canvas.print_figure(bytes_io, **kw)\n",
            "/usr/local/lib/python3.11/dist-packages/IPython/core/pylabtools.py:151: UserWarning: Glyph 20498 (\\N{CJK UNIFIED IDEOGRAPH-5012}) missing from font(s) DejaVu Sans.\n",
            "  fig.canvas.print_figure(bytes_io, **kw)\n"
          ]
        },
        {
          "output_type": "display_data",
          "data": {
            "text/plain": [
              "<Figure size 800x600 with 2 Axes>"
            ],
            "image/png": "[encoded data removed]"
          },
          "metadata": {}
        },
        {
          "output_type": "stream",
          "name": "stdout",
          "text": [
            "\n",
            "混淆矩陣結果:\n",
            "真負例(TN): 949\n",
            "假正例(FP): 13\n",
            "假負例(FN): 17\n",
            "真正例(TP): 231\n"
          ]
        }
      ]
    },
    {
      "cell_type": "code",
      "source": [
        "def test_model_speed(model, X_test_sample):\n",
        "  \"\"\"測試模型推理速度\"\"\"\n",
        "  import time\n",
        "\n",
        "  # 單次推理測試\n",
        "  single_sample = X_test_sample[:1]  # 取一個樣本\n",
        "\n",
        "  # 預熱\n",
        "  for _ in range(10):\n",
        "      _ = model.predict(single_sample, verbose=0)\n",
        "\n",
        "  # 測試單次推理時間\n",
        "  times = []\n",
        "  for _ in range(100):\n",
        "      start = time.time()\n",
        "      _ = model.predict(single_sample, verbose=0)\n",
        "      times.append(time.time() - start)\n",
        "\n",
        "  avg_time = np.mean(times) * 1000  # 轉換為毫秒\n",
        "  print(f\"\\n=== 推理速度測試 ===\")\n",
        "  print(f\"單次推理平均時間: {avg_time:.2f} ms\")\n",
        "  print(f\"每秒可處理: {1000/avg_time:.1f} 個樣本\")\n",
        "\n",
        "test_model_speed(model, X_test)"
      ],
      "metadata": {
        "colab": {
          "base_uri": "https://localhost:8080/"
        },
        "id": "LqwNtomRMLXM",
        "outputId": "a240ff61-a877-4b8b-fdff-4dc7f1122092"
      },
      "execution_count": null,
      "outputs": [
        {
          "output_type": "stream",
          "name": "stdout",
          "text": [
            "\n",
            "=== 推理速度測試 ===\n",
            "單次推理平均時間: 108.84 ms\n",
            "每秒可處理: 9.2 個樣本\n"
          ]
        }
      ]
    },
    {
      "cell_type": "code",
      "source": [
        "model.save(\"/content/drive/MyDrive/訓練/fall_detection.keras\")\n",
        "print(f\"模型已儲存: fall_detection.keras\")"
      ],
      "metadata": {
        "colab": {
          "base_uri": "https://localhost:8080/"
        },
        "id": "3dwy8vU9MnXw",
        "outputId": "e4f2f2f1-63b6-4288-e3ed-01cf47601884"
      },
      "execution_count": null,
      "outputs": [
        {
          "output_type": "stream",
          "name": "stdout",
          "text": [
            "模型已儲存: fall_detection.keras\n"
          ]
        }
      ]
    }
  ]
}