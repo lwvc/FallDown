{
  "nbformat": 4,
  "nbformat_minor": 0,
  "metadata": {
    "colab": {
      "provenance": [],
      "mount_file_id": "1M3Ufym-r4QjZKfvPh9RTE4_dUPHEg4dU",
      "authorship_tag": "ABX9TyNVElugLXNS7UnYdpxIr8ZY",
      "include_colab_link": true
    },
    "kernelspec": {
      "name": "python3",
      "display_name": "Python 3"
    },
    "language_info": {
      "name": "python"
    }
  },
  "cells": [
    {
      "cell_type": "markdown",
      "metadata": {
        "id": "view-in-github",
        "colab_type": "text"
      },
      "source": [
        "<a href=\"https://colab.research.google.com/github/lwvc/FallDown/blob/main/Preprocessing.ipynb\" target=\"_parent\"><img src=\"https://colab.research.google.com/assets/colab-badge.svg\" alt=\"Open In Colab\"/></a>"
      ]
    },
    {
      "cell_type": "code",
      "source": [
        "import pandas as pd"
      ],
      "metadata": {
        "id": "LpgjdO0ofJyy"
      },
      "execution_count": null,
      "outputs": []
    },
    {
      "cell_type": "markdown",
      "source": [
        "# 資料預處理 - Falldown"
      ],
      "metadata": {
        "id": "biqw4tPjb3N6"
      }
    },
    {
      "cell_type": "code",
      "execution_count": null,
      "metadata": {
        "id": "FHDgDuyGbsqz",
        "colab": {
          "base_uri": "https://localhost:8080/"
        },
        "outputId": "505f77a6-c016-4284-f348-2bb9d3daaa81"
      },
      "outputs": [
        {
          "output_type": "stream",
          "name": "stdout",
          "text": [
            "群組: ['F01' 'F02' 'F03' 'F04' 'F05' 'F06' 'F07' 'F08' 'F09' 'F10' 'F11' 'F12'\n",
            " 'F15' 'F16' 'F17' 'F18' 'F19' 'F20' 'F21' 'F22' 'F23' 'F24' 'F25' 'F26'\n",
            " 'F27' 'F28' 'F29' 'F30' 'F01_flip' 'F02_flip' 'F03_flip' 'F04_flip'\n",
            " 'F05_flip' 'F06_flip' 'F07_flip' 'F08_flip' 'F09_flip' 'F10_flip'\n",
            " 'F11_flip' 'F12_flip' 'F15_flip' 'F16_flip' 'F17_flip' 'F18_flip'\n",
            " 'F19_flip' 'F20_flip' 'F21_flip' 'F22_flip' 'F23_flip' 'F24_flip'\n",
            " 'F25_flip' 'F26_flip' 'F27_flip' 'F28_flip' 'F29_flip' 'F30_flip']\n"
          ]
        }
      ],
      "source": [
        "csv_path = \"/content/drive/MyDrive/訓練/data/original_data/skeleton.csv\"\n",
        "df = pd.read_csv(csv_path)\n",
        "\n",
        "df['video'] = df['image'].str.extract(r'(F\\d{2})')[0] + df['image'].apply(lambda x: '_flip' if '_flip' in x else '')\n",
        "\n",
        "df['frame'] = df['image'].str.extract(r'_(\\d{3})')[0].astype(int)\n",
        "\n",
        "print(\"群組:\", df['video'].unique())\n",
        "# print(df.head(10))"
      ]
    },
    {
      "cell_type": "markdown",
      "source": [
        "## 線性插值"
      ],
      "metadata": {
        "id": "42IrEowh6CT1"
      }
    },
    {
      "cell_type": "code",
      "source": [
        "def interpolate(group, threshold=0.6):\n",
        "  group_copy = group.copy()\n",
        "  numeric_cols = group_copy.select_dtypes(include=['number']).columns\n",
        "  for col in numeric_cols:\n",
        "    missing_ratio = group_copy[col].isna().sum() / len(group_copy)\n",
        "    if missing_ratio <= threshold: #缺失值少於1/3\n",
        "      group_copy[col] = group_copy[col].interpolate(method=\"linear\", limit_direction=\"both\")\n",
        "    else:\n",
        "      print(f\"{group_copy['video'].iloc[0]}的{col}欄位，缺失率達{missing_ratio:.1%}，不補值\")\n",
        "  return group_copy\n",
        "\n",
        "interpolated = (df.groupby('video').apply(lambda g: interpolate(g, threshold=3/5)).reset_index(drop=True))\n",
        "# interpolated.to_csv('/content/skeleton_interpolated.csv', index=False)"
      ],
      "metadata": {
        "colab": {
          "base_uri": "https://localhost:8080/"
        },
        "collapsed": true,
        "id": "Eg9r_Jjk3DWf",
        "outputId": "f4e8bf7c-d58a-44f3-edb1-46356d697086"
      },
      "execution_count": null,
      "outputs": [
        {
          "output_type": "stream",
          "name": "stdout",
          "text": [
            "F01的right_elbow_x欄位，缺失率達64.4%，不補值\n",
            "F01的right_elbow_y欄位，缺失率達64.4%，不補值\n",
            "F01的right_knee_x欄位，缺失率達64.4%，不補值\n",
            "F01的right_knee_y欄位，缺失率達64.4%，不補值\n",
            "F01的right_ankle_x欄位，缺失率達66.7%，不補值\n",
            "F01的right_ankle_y欄位，缺失率達66.7%，不補值\n",
            "F01_flip的left_ankle_x欄位，缺失率達64.4%，不補值\n",
            "F01_flip的left_ankle_y欄位，缺失率達64.4%，不補值\n",
            "F02的right_elbow_x欄位，缺失率達91.1%，不補值\n",
            "F02的right_elbow_y欄位，缺失率達91.1%，不補值\n",
            "F02的right_wrist_x欄位，缺失率達95.6%，不補值\n",
            "F02的right_wrist_y欄位，缺失率達95.6%，不補值\n",
            "F02的right_knee_x欄位，缺失率達71.1%，不補值\n",
            "F02的right_knee_y欄位，缺失率達71.1%，不補值\n",
            "F02_flip的left_elbow_x欄位，缺失率達95.6%，不補值\n",
            "F02_flip的left_elbow_y欄位，缺失率達95.6%，不補值\n",
            "F02_flip的left_wrist_x欄位，缺失率達91.1%，不補值\n",
            "F02_flip的left_wrist_y欄位，缺失率達91.1%，不補值\n",
            "F02_flip的left_knee_x欄位，缺失率達86.7%，不補值\n",
            "F02_flip的left_knee_y欄位，缺失率達86.7%，不補值\n",
            "F03的left_wrist_x欄位，缺失率達61.1%，不補值\n",
            "F03的left_wrist_y欄位，缺失率達61.1%，不補值\n",
            "F03的right_wrist_x欄位，缺失率達94.4%，不補值\n",
            "F03的right_wrist_y欄位，缺失率達94.4%，不補值\n",
            "F03_flip的left_elbow_x欄位，缺失率達85.2%，不補值\n",
            "F03_flip的left_elbow_y欄位，缺失率達85.2%，不補值\n",
            "F03_flip的right_elbow_x欄位，缺失率達70.4%，不補值\n",
            "F03_flip的right_elbow_y欄位，缺失率達70.4%，不補值\n",
            "F03_flip的left_wrist_x欄位，缺失率達94.4%，不補值\n",
            "F03_flip的left_wrist_y欄位，缺失率達94.4%，不補值\n",
            "F03_flip的right_wrist_x欄位，缺失率達66.7%，不補值\n",
            "F03_flip的right_wrist_y欄位，缺失率達66.7%，不補值\n",
            "F03_flip的right_knee_x欄位，缺失率達85.2%，不補值\n",
            "F03_flip的right_knee_y欄位，缺失率達85.2%，不補值\n",
            "F03_flip的left_ankle_x欄位，缺失率達79.6%，不補值\n",
            "F03_flip的left_ankle_y欄位，缺失率達79.6%，不補值\n",
            "F03_flip的right_ankle_x欄位，缺失率達90.7%，不補值\n",
            "F03_flip的right_ankle_y欄位，缺失率達90.7%，不補值\n",
            "F04的left_elbow_x欄位，缺失率達63.0%，不補值\n",
            "F04的left_elbow_y欄位，缺失率達63.0%，不補值\n",
            "F04的right_elbow_x欄位，缺失率達98.1%，不補值\n",
            "F04的right_elbow_y欄位，缺失率達98.1%，不補值\n",
            "F04的right_wrist_x欄位，缺失率達98.1%，不補值\n",
            "F04的right_wrist_y欄位，缺失率達98.1%，不補值\n",
            "F04的left_knee_x欄位，缺失率達68.5%，不補值\n",
            "F04的left_knee_y欄位，缺失率達68.5%，不補值\n",
            "F04的right_knee_x欄位，缺失率達61.1%，不補值\n",
            "F04的right_knee_y欄位，缺失率達61.1%，不補值\n",
            "F04_flip的left_elbow_x欄位，缺失率達100.0%，不補值\n",
            "F04_flip的left_elbow_y欄位，缺失率達100.0%，不補值\n",
            "F04_flip的left_wrist_x欄位，缺失率達94.4%，不補值\n",
            "F04_flip的left_wrist_y欄位，缺失率達94.4%，不補值\n",
            "F04_flip的left_knee_x欄位，缺失率達79.6%，不補值\n",
            "F04_flip的left_knee_y欄位，缺失率達79.6%，不補值\n",
            "F05的left_knee_x欄位，缺失率達73.3%，不補值\n",
            "F05的left_knee_y欄位，缺失率達73.3%，不補值\n",
            "F05的left_ankle_x欄位，缺失率達73.3%，不補值\n",
            "F05的left_ankle_y欄位，缺失率達73.3%，不補值\n",
            "F07的left_elbow_x欄位，缺失率達61.1%，不補值\n",
            "F07的left_elbow_y欄位，缺失率達61.1%，不補值\n",
            "F07的left_knee_x欄位，缺失率達72.2%，不補值\n",
            "F07的left_knee_y欄位，缺失率達72.2%，不補值\n",
            "F07的right_knee_x欄位，缺失率達77.8%，不補值\n",
            "F07的right_knee_y欄位，缺失率達77.8%，不補值\n",
            "F07的left_ankle_x欄位，缺失率達74.1%，不補值\n",
            "F07的left_ankle_y欄位，缺失率達74.1%，不補值\n",
            "F07的right_ankle_x欄位，缺失率達77.8%，不補值\n",
            "F07的right_ankle_y欄位，缺失率達77.8%，不補值\n",
            "F07_flip的left_knee_x欄位，缺失率達74.1%，不補值\n",
            "F07_flip的left_knee_y欄位，缺失率達74.1%，不補值\n",
            "F07_flip的right_knee_x欄位，缺失率達66.7%，不補值\n",
            "F07_flip的right_knee_y欄位，缺失率達66.7%，不補值\n",
            "F07_flip的left_ankle_x欄位，缺失率達75.9%，不補值\n",
            "F07_flip的left_ankle_y欄位，缺失率達75.9%，不補值\n",
            "F07_flip的right_ankle_x欄位，缺失率達72.2%，不補值\n",
            "F07_flip的right_ankle_y欄位，缺失率達72.2%，不補值\n",
            "F08的right_ankle_x欄位，缺失率達66.7%，不補值\n",
            "F08的right_ankle_y欄位，缺失率達66.7%，不補值\n",
            "F09的right_elbow_x欄位，缺失率達100.0%，不補值\n",
            "F09的right_elbow_y欄位，缺失率達100.0%，不補值\n",
            "F09的right_wrist_x欄位，缺失率達83.3%，不補值\n",
            "F09的right_wrist_y欄位，缺失率達83.3%，不補值\n",
            "F09的right_knee_x欄位，缺失率達100.0%，不補值\n",
            "F09的right_knee_y欄位，缺失率達100.0%，不補值\n",
            "F09的right_ankle_x欄位，缺失率達77.8%，不補值\n",
            "F09的right_ankle_y欄位，缺失率達77.8%，不補值\n",
            "F09_flip的left_elbow_x欄位，缺失率達88.9%，不補值\n",
            "F09_flip的left_elbow_y欄位，缺失率達88.9%，不補值\n",
            "F09_flip的left_wrist_x欄位，缺失率達72.2%，不補值\n",
            "F09_flip的left_wrist_y欄位，缺失率達72.2%，不補值\n",
            "F09_flip的left_knee_x欄位，缺失率達72.2%，不補值\n",
            "F09_flip的left_knee_y欄位，缺失率達72.2%，不補值\n",
            "F09_flip的left_ankle_x欄位，缺失率達61.1%，不補值\n",
            "F09_flip的left_ankle_y欄位，缺失率達61.1%，不補值\n",
            "F10的right_elbow_x欄位，缺失率達91.1%，不補值\n",
            "F10的right_elbow_y欄位，缺失率達91.1%，不補值\n",
            "F10的right_wrist_x欄位，缺失率達97.8%，不補值\n",
            "F10的right_wrist_y欄位，缺失率達97.8%，不補值\n",
            "F10的left_knee_x欄位，缺失率達73.3%，不補值\n",
            "F10的left_knee_y欄位，缺失率達73.3%，不補值\n",
            "F10的right_knee_x欄位，缺失率達71.1%，不補值\n",
            "F10的right_knee_y欄位，缺失率達71.1%，不補值\n",
            "F10的right_ankle_x欄位，缺失率達64.4%，不補值\n",
            "F10的right_ankle_y欄位，缺失率達64.4%，不補值\n",
            "F10_flip的left_elbow_x欄位，缺失率達86.7%，不補值\n",
            "F10_flip的left_elbow_y欄位，缺失率達86.7%，不補值\n",
            "F10_flip的right_elbow_x欄位，缺失率達66.7%，不補值\n",
            "F10_flip的right_elbow_y欄位，缺失率達66.7%，不補值\n",
            "F10_flip的left_wrist_x欄位，缺失率達62.2%，不補值\n",
            "F10_flip的left_wrist_y欄位，缺失率達62.2%，不補值\n",
            "F10_flip的left_knee_x欄位，缺失率達77.8%，不補值\n",
            "F10_flip的left_knee_y欄位，缺失率達77.8%，不補值\n",
            "F10_flip的left_ankle_x欄位，缺失率達68.9%，不補值\n",
            "F10_flip的left_ankle_y欄位，缺失率達68.9%，不補值\n",
            "F12的right_elbow_x欄位，缺失率達68.5%，不補值\n",
            "F12的right_elbow_y欄位，缺失率達68.5%，不補值\n",
            "F15的left_knee_x欄位，缺失率達66.7%，不補值\n",
            "F15的left_knee_y欄位，缺失率達66.7%，不補值\n",
            "F15的right_knee_x欄位，缺失率達80.6%，不補值\n",
            "F15的right_knee_y欄位，缺失率達80.6%，不補值\n",
            "F15的left_ankle_x欄位，缺失率達66.7%，不補值\n",
            "F15的left_ankle_y欄位，缺失率達66.7%，不補值\n",
            "F15的right_ankle_x欄位，缺失率達69.4%，不補值\n",
            "F15的right_ankle_y欄位，缺失率達69.4%，不補值\n",
            "F16的right_elbow_x欄位，缺失率達100.0%，不補值\n",
            "F16的right_elbow_y欄位，缺失率達100.0%，不補值\n",
            "F16的right_wrist_x欄位，缺失率達69.4%，不補值\n",
            "F16的right_wrist_y欄位，缺失率達69.4%，不補值\n",
            "F16的right_knee_x欄位，缺失率達83.3%，不補值\n",
            "F16的right_knee_y欄位，缺失率達83.3%，不補值\n",
            "F16的right_ankle_x欄位，缺失率達83.3%，不補值\n",
            "F16的right_ankle_y欄位，缺失率達83.3%，不補值\n",
            "F16_flip的left_elbow_x欄位，缺失率達72.2%，不補值\n",
            "F16_flip的left_elbow_y欄位，缺失率達72.2%，不補值\n",
            "F16_flip的left_wrist_x欄位，缺失率達63.9%，不補值\n",
            "F16_flip的left_wrist_y欄位，缺失率達63.9%，不補值\n",
            "F16_flip的left_knee_x欄位，缺失率達63.9%，不補值\n",
            "F16_flip的left_knee_y欄位，缺失率達63.9%，不補值\n",
            "F17的right_knee_x欄位，缺失率達66.7%，不補值\n",
            "F17的right_knee_y欄位，缺失率達66.7%，不補值\n",
            "F17的right_ankle_x欄位，缺失率達75.0%，不補值\n",
            "F17的right_ankle_y欄位，缺失率達75.0%，不補值\n",
            "F17_flip的left_knee_x欄位，缺失率達61.1%，不補值\n",
            "F17_flip的left_knee_y欄位，缺失率達61.1%，不補值\n",
            "F17_flip的left_ankle_x欄位，缺失率達83.3%，不補值\n",
            "F17_flip的left_ankle_y欄位，缺失率達83.3%，不補值\n",
            "F18的right_elbow_x欄位，缺失率達100.0%，不補值\n",
            "F18的right_elbow_y欄位，缺失率達100.0%，不補值\n",
            "F18的right_knee_x欄位，缺失率達100.0%，不補值\n",
            "F18的right_knee_y欄位，缺失率達100.0%，不補值\n",
            "F18的right_ankle_x欄位，缺失率達100.0%，不補值\n",
            "F18的right_ankle_y欄位，缺失率達100.0%，不補值\n",
            "F18_flip的left_elbow_x欄位，缺失率達74.1%，不補值\n",
            "F18_flip的left_elbow_y欄位，缺失率達74.1%，不補值\n",
            "F18_flip的left_knee_x欄位，缺失率達100.0%，不補值\n",
            "F18_flip的left_knee_y欄位，缺失率達100.0%，不補值\n",
            "F20的right_elbow_x欄位，缺失率達93.1%，不補值\n",
            "F20的right_elbow_y欄位，缺失率達93.1%，不補值\n",
            "F20_flip的left_elbow_x欄位，缺失率達68.1%，不補值\n",
            "F20_flip的left_elbow_y欄位，缺失率達68.1%，不補值\n",
            "F22的right_elbow_x欄位，缺失率達100.0%，不補值\n",
            "F22的right_elbow_y欄位，缺失率達100.0%，不補值\n",
            "F22的right_wrist_x欄位，缺失率達62.2%，不補值\n",
            "F22的right_wrist_y欄位，缺失率達62.2%，不補值\n",
            "F22的right_knee_x欄位，缺失率達100.0%，不補值\n",
            "F22的right_knee_y欄位，缺失率達100.0%，不補值\n",
            "F22的right_ankle_x欄位，缺失率達97.8%，不補值\n",
            "F22的right_ankle_y欄位，缺失率達97.8%，不補值\n",
            "F22_flip的left_elbow_x欄位，缺失率達66.7%，不補值\n",
            "F22_flip的left_elbow_y欄位，缺失率達66.7%，不補值\n",
            "F22_flip的left_wrist_x欄位，缺失率達62.2%，不補值\n",
            "F22_flip的left_wrist_y欄位，缺失率達62.2%，不補值\n",
            "F22_flip的left_knee_x欄位，缺失率達93.3%，不補值\n",
            "F22_flip的left_knee_y欄位，缺失率達93.3%，不補值\n",
            "F22_flip的left_ankle_x欄位，缺失率達91.1%，不補值\n",
            "F22_flip的left_ankle_y欄位，缺失率達91.1%，不補值\n",
            "F22_flip的right_ankle_x欄位，缺失率達62.2%，不補值\n",
            "F22_flip的right_ankle_y欄位，缺失率達62.2%，不補值\n",
            "F23_flip的right_wrist_x欄位，缺失率達61.1%，不補值\n",
            "F23_flip的right_wrist_y欄位，缺失率達61.1%，不補值\n",
            "F24的right_elbow_x欄位，缺失率達100.0%，不補值\n",
            "F24的right_elbow_y欄位，缺失率達100.0%，不補值\n",
            "F24的right_wrist_x欄位，缺失率達75.6%，不補值\n",
            "F24的right_wrist_y欄位，缺失率達75.6%，不補值\n",
            "F24的right_knee_x欄位，缺失率達93.3%，不補值\n",
            "F24的right_knee_y欄位，缺失率達93.3%，不補值\n",
            "F24的right_ankle_x欄位，缺失率達84.4%，不補值\n",
            "F24的right_ankle_y欄位，缺失率達84.4%，不補值\n",
            "F24_flip的left_elbow_x欄位，缺失率達88.9%，不補值\n",
            "F24_flip的left_elbow_y欄位，缺失率達88.9%，不補值\n",
            "F24_flip的left_wrist_x欄位，缺失率達64.4%，不補值\n",
            "F24_flip的left_wrist_y欄位，缺失率達64.4%，不補值\n",
            "F24_flip的left_knee_x欄位，缺失率達97.8%，不補值\n",
            "F24_flip的left_knee_y欄位，缺失率達97.8%，不補值\n",
            "F24_flip的left_ankle_x欄位，缺失率達91.1%，不補值\n",
            "F24_flip的left_ankle_y欄位，缺失率達91.1%，不補值\n",
            "F26的right_elbow_x欄位，缺失率達100.0%，不補值\n",
            "F26的right_elbow_y欄位，缺失率達100.0%，不補值\n",
            "F26的right_knee_x欄位，缺失率達96.3%，不補值\n",
            "F26的right_knee_y欄位，缺失率達96.3%，不補值\n",
            "F26的left_ankle_x欄位，缺失率達66.7%，不補值\n",
            "F26的left_ankle_y欄位，缺失率達66.7%，不補值\n",
            "F26的right_ankle_x欄位，缺失率達100.0%，不補值\n",
            "F26的right_ankle_y欄位，缺失率達100.0%，不補值\n",
            "F26_flip的left_ankle_x欄位，缺失率達81.5%，不補值\n",
            "F26_flip的left_ankle_y欄位，缺失率達81.5%，不補值\n",
            "F28的right_elbow_x欄位，缺失率達100.0%，不補值\n",
            "F28的right_elbow_y欄位，缺失率達100.0%，不補值\n",
            "F28的right_knee_x欄位，缺失率達77.8%，不補值\n",
            "F28的right_knee_y欄位，缺失率達77.8%，不補值\n",
            "F28的right_ankle_x欄位，缺失率達88.9%，不補值\n",
            "F28的right_ankle_y欄位，缺失率達88.9%，不補值\n",
            "F28_flip的left_knee_x欄位，缺失率達63.9%，不補值\n",
            "F28_flip的left_knee_y欄位，缺失率達63.9%，不補值\n",
            "F28_flip的left_ankle_x欄位，缺失率達69.4%，不補值\n",
            "F28_flip的left_ankle_y欄位，缺失率達69.4%，不補值\n",
            "F30的right_elbow_x欄位，缺失率達100.0%，不補值\n",
            "F30的right_elbow_y欄位，缺失率達100.0%，不補值\n",
            "F30的right_knee_x欄位，缺失率達88.9%，不補值\n",
            "F30的right_knee_y欄位，缺失率達88.9%，不補值\n",
            "F30的right_ankle_x欄位，缺失率達96.3%，不補值\n",
            "F30的right_ankle_y欄位，缺失率達96.3%，不補值\n",
            "F30_flip的left_ankle_x欄位，缺失率達63.0%，不補值\n",
            "F30_flip的left_ankle_y欄位，缺失率達63.0%，不補值\n"
          ]
        },
        {
          "output_type": "stream",
          "name": "stderr",
          "text": [
            "/tmp/ipython-input-43-1558798486.py:12: DeprecationWarning: DataFrameGroupBy.apply operated on the grouping columns. This behavior is deprecated, and in a future version of pandas the grouping columns will be excluded from the operation. Either pass `include_groups=False` to exclude the groupings or explicitly select the grouping columns after groupby to silence this warning.\n",
            "  interpolated = (df.groupby('video').apply(lambda g: interpolate(g, threshold=3/5)).reset_index(drop=True))\n"
          ]
        }
      ]
    },
    {
      "cell_type": "markdown",
      "source": [
        "## 每組依相同間隔取長度為9的序列"
      ],
      "metadata": {
        "id": "WMkugC6OAibM"
      }
    },
    {
      "cell_type": "code",
      "source": [
        "def sequence(group):\n",
        "  length = len(group)\n",
        "  assert length % 9 == 0, f\"長度必須為9的倍數,{length}\"\n",
        "  step = length // 9\n",
        "  sequences = []\n",
        "  for offset in range(step):\n",
        "    indices = [i * step + offset for i in range(9)]\n",
        "    seq = group.iloc[indices].copy()\n",
        "    sequences.append(seq)\n",
        "  return pd.concat(sequences, ignore_index=True)\n",
        "\n",
        "\n",
        "# 先複製\n",
        "seq = interpolated.copy()\n",
        "seq['seq'] = (seq.groupby('video').cumcount()+1)\n",
        "\n",
        "seq_9 = seq.groupby(\"video\", group_keys=False).apply(sequence).reset_index(drop=True)\n",
        "seq_9['label'] = 5"
      ],
      "metadata": {
        "colab": {
          "base_uri": "https://localhost:8080/"
        },
        "id": "e15VgwTSAhG2",
        "outputId": "923d9a74-5a4b-4af4-aa23-0eeafce3cbaa"
      },
      "execution_count": null,
      "outputs": [
        {
          "output_type": "stream",
          "name": "stderr",
          "text": [
            "/tmp/ipython-input-47-3812101282.py:17: DeprecationWarning: DataFrameGroupBy.apply operated on the grouping columns. This behavior is deprecated, and in a future version of pandas the grouping columns will be excluded from the operation. Either pass `include_groups=False` to exclude the groupings or explicitly select the grouping columns after groupby to silence this warning.\n",
            "  seq_9 = seq.groupby(\"video\", group_keys=False).apply(sequence).reset_index(drop=True)\n"
          ]
        }
      ]
    },
    {
      "cell_type": "code",
      "source": [
        "seq_9.to_csv('/content/drive/MyDrive/訓練/data/seq_9_fall.csv', index=False)"
      ],
      "metadata": {
        "id": "3OH1onX5EFYL"
      },
      "execution_count": null,
      "outputs": []
    },
    {
      "cell_type": "markdown",
      "source": [
        "# 資料預處理 - Dataset Video For Human Action Recognition"
      ],
      "metadata": {
        "id": "DWVuyqrvJ9Ue"
      }
    },
    {
      "cell_type": "code",
      "source": [
        "csv_path_1 = \"/content/drive/MyDrive/訓練/data/original_data/train_yolov7.csv\"\n",
        "df_1 = pd.read_csv(csv_path_1)\n",
        "\n",
        "#只保留13個關鍵點\n",
        "keypoints = [\n",
        "  'video', 'label', 'frame',\n",
        "  'nose_x', 'nose_y',\n",
        "  'left_shoulder_x', 'left_shoulder_y',\n",
        "  'right_shoulder_x', 'right_shoulder_y',\n",
        "  'left_elbow_x', 'left_elbow_y',\n",
        "  'right_elbow_x', 'right_elbow_y',\n",
        "  'left_wrist_x', 'left_wrist_y',\n",
        "  'right_wrist_x', 'right_wrist_y',\n",
        "  'left_hip_x', 'left_hip_y',\n",
        "  'right_hip_x', 'right_hip_y',\n",
        "  'left_knee_x', 'left_knee_y',\n",
        "  'right_knee_x', 'right_knee_y',\n",
        "  'left_ankle_x', 'left_ankle_y',\n",
        "  'right_ankle_x', 'right_ankle_y'\n",
        "]\n",
        "df_1 = df_1[keypoints]\n",
        "\n",
        "# 刪除siting、standing、lying\n",
        "df_1 = df_1[~df_1['label'].isin([1, 4, 6])]\n",
        "\n",
        "df_1['group'] = df_1['video']\n",
        "\n",
        "# 每列缺失值>7的，標記為無效列\n",
        "df_1['missing_count'] = df_1.isna().sum(axis=1)\n",
        "df_1['is_invalid'] = df_1['missing_count'] > 14\n",
        "\n",
        "# 每個 group 判斷是否保留\n",
        "def is_group_valid(group):\n",
        "  label = group['label'].iloc[0]\n",
        "  ratio = group['is_invalid'].sum() / len(group)\n",
        "  if label == 5:\n",
        "    return ratio <= 0.6\n",
        "  else:\n",
        "    return ratio <= 0.2 and not group['video'].iloc[0].endswith('flip.avi')\n",
        "\n",
        "# 只保留有效group\n",
        "valid_groups_1 = df_1.groupby('group').filter(is_group_valid)['group'].unique()\n",
        "df_clean_1 = df_1[df_1['group'].isin(valid_groups_1)]\n",
        "\n",
        "# df_clean_1.to_csv('/content/skeleton_interpolated.csv', index=False)"
      ],
      "metadata": {
        "id": "9C-Sak4MKIJW"
      },
      "execution_count": null,
      "outputs": []
    },
    {
      "cell_type": "code",
      "source": [
        "csv_path_2 = \"/content/drive/MyDrive/訓練/data/original_data/test_yolov7.csv\"\n",
        "df_2 = pd.read_csv(csv_path_2)\n",
        "\n",
        "df_2 = df_2[df_2['label'] == 5]\n",
        "df_2 = df_2[keypoints]\n",
        "\n",
        "df_2['group'] = df_2['video']\n",
        "\n",
        "df_2['missing_count'] = df_2.isna().sum(axis=1)\n",
        "df_2['is_invalid'] = df_2['missing_count'] > 14\n",
        "\n",
        "# group裡無效列>3/5的要刪除整組\n",
        "group_valid_2 = (df_2.groupby('group')['is_invalid'].apply(lambda x: (x.sum() / len(x)) <= 0.6))\n",
        "\n",
        "# 只保留有效group\n",
        "valid_groups_2 = group_valid_2[group_valid_2].index\n",
        "df_clean_2 = df_2[df_2['group'].isin(valid_groups_2)]\n",
        "\n",
        "# df_clean_2.to_csv('/content/skeleton_interpolated.csv', index=False)"
      ],
      "metadata": {
        "id": "0QGMFOk5jpMO"
      },
      "execution_count": null,
      "outputs": []
    },
    {
      "cell_type": "code",
      "source": [
        "df_all = pd.concat([df_clean_1, df_clean_2], ignore_index=True)\n",
        "\n",
        "df_not_trimmed = []\n",
        "df_trimmed = []\n",
        "\n",
        "for _, group in df_all.groupby('video'):\n",
        "  if group['is_invalid'].any():\n",
        "    df_not_trimmed.append(group)\n",
        "  else:\n",
        "    length = len(group)\n",
        "    remainder = length % 9\n",
        "    if remainder > 0:\n",
        "      df_trimmed.append(group.iloc[:-remainder].copy())\n",
        "    else:\n",
        "      df_not_trimmed.append(group)\n",
        "\n",
        "df_all_ordered = pd.concat(df_not_trimmed + df_trimmed, ignore_index=True)\n",
        "\n",
        "df_all_ordered = df_all_ordered.drop(columns=['missing_count', 'is_invalid', 'group'], errors='ignore')\n",
        "\n",
        "df_all_ordered.to_csv('/content/drive/MyDrive/訓練/data/temp/URData.csv', index=False)\n"
      ],
      "metadata": {
        "id": "FMBwoKp5lcmA"
      },
      "execution_count": null,
      "outputs": []
    },
    {
      "cell_type": "markdown",
      "source": [
        "### 刪除一些需要線性補值較多的數據"
      ],
      "metadata": {
        "id": "p_Jzb1R_8HK1"
      }
    },
    {
      "cell_type": "code",
      "source": [
        "csv_path_3 = \"/content/drive/MyDrive/訓練/data/temp/URData_clear.csv\"\n",
        "df_3 = pd.read_csv(csv_path_3)\n",
        "\n",
        "def interpolate_trim(group, threshold=0.6):\n",
        "  group_copy = group.copy()\n",
        "  numeric_cols = group_copy.select_dtypes(include=['number']).columns\n",
        "\n",
        "  for col in numeric_cols:\n",
        "    missing_ratio = group_copy[col].isna().sum() / len(group_copy)\n",
        "    if missing_ratio <= threshold:\n",
        "      group_copy[col] = group_copy[col].interpolate(method='linear', limit_direction='both')\n",
        "    else:\n",
        "      print(f\"{group_copy['video'].iloc[0]} 的 {col} 欄位缺失率達 {missing_ratio:.1%}，不補值\")\n",
        "  # 修剪\n",
        "  length = len(group_copy)\n",
        "  remainder = length % 9\n",
        "  if remainder > 0:\n",
        "    group_copy = group_copy.iloc[:-remainder]\n",
        "\n",
        "  return group_copy\n",
        "\n",
        "\n",
        "df_processed = df_3.groupby('video', group_keys=False).apply(interpolate_trim).reset_index(drop=True)\n",
        "\n",
        "df_processed.to_csv(\"/content/skeleton_interpolated.csv\", index=False)"
      ],
      "metadata": {
        "colab": {
          "base_uri": "https://localhost:8080/"
        },
        "collapsed": true,
        "id": "pUk4KDJX8M1w",
        "outputId": "b346881a-2f3c-4db2-83ca-8556ed105c10"
      },
      "execution_count": null,
      "outputs": [
        {
          "output_type": "stream",
          "name": "stderr",
          "text": [
            "/tmp/ipython-input-59-55986740.py:23: DeprecationWarning: DataFrameGroupBy.apply operated on the grouping columns. This behavior is deprecated, and in a future version of pandas the grouping columns will be excluded from the operation. Either pass `include_groups=False` to exclude the groupings or explicitly select the grouping columns after groupby to silence this warning.\n",
            "  df_processed = df_3.groupby('video', group_keys=False).apply(interpolate_trim).reset_index(drop=True)\n"
          ]
        }
      ]
    },
    {
      "cell_type": "markdown",
      "source": [
        "### 每組依相同間隔取長度為9的序列"
      ],
      "metadata": {
        "id": "SWim6nFm-4CX"
      }
    },
    {
      "cell_type": "code",
      "source": [
        "def sequence(group):\n",
        "  length = len(group)\n",
        "  assert length % 9 == 0, f\"長度必須為9的倍數,{length}\"\n",
        "  step = length // 9\n",
        "  sequences = []\n",
        "  for offset in range(step):\n",
        "    indices = [i * step + offset for i in range(9)]\n",
        "    seq = group.iloc[indices].copy()\n",
        "    sequences.append(seq)\n",
        "  return pd.concat(sequences, ignore_index=True)\n",
        "\n",
        "# 先複製\n",
        "seq_pro = df_processed.copy()\n",
        "seq_pro['seq'] = (seq_pro.groupby('video').cumcount()+1)\n",
        "\n",
        "seq_pro_9 = seq_pro.groupby(\"video\", group_keys=False).apply(sequence).reset_index(drop=True)"
      ],
      "metadata": {
        "colab": {
          "base_uri": "https://localhost:8080/"
        },
        "id": "_zAGTyEz-59F",
        "outputId": "c228b248-936b-4e8c-9bc1-97e3b7683186"
      },
      "execution_count": null,
      "outputs": [
        {
          "output_type": "stream",
          "name": "stderr",
          "text": [
            "/tmp/ipython-input-60-3924739638.py:16: DeprecationWarning: DataFrameGroupBy.apply operated on the grouping columns. This behavior is deprecated, and in a future version of pandas the grouping columns will be excluded from the operation. Either pass `include_groups=False` to exclude the groupings or explicitly select the grouping columns after groupby to silence this warning.\n",
            "  seq_pro_9 = seq_pro.groupby(\"video\", group_keys=False).apply(sequence).reset_index(drop=True)\n"
          ]
        }
      ]
    },
    {
      "cell_type": "code",
      "source": [
        "seq_pro_9.to_csv('/content/drive/MyDrive/訓練/data/URData.csv', index=False)"
      ],
      "metadata": {
        "id": "mb_voAESA8uB"
      },
      "execution_count": null,
      "outputs": []
    },
    {
      "cell_type": "markdown",
      "source": [
        "## 合併"
      ],
      "metadata": {
        "id": "v6Ox0iAyLuf4"
      }
    },
    {
      "cell_type": "code",
      "source": [
        "cols_order = [\n",
        "    'video', 'frame', 'seq',\n",
        "    'nose_x', 'nose_y',\n",
        "    'left_shoulder_x', 'left_shoulder_y',\n",
        "    'right_shoulder_x', 'right_shoulder_y',\n",
        "    'left_elbow_x', 'left_elbow_y',\n",
        "    'right_elbow_x', 'right_elbow_y',\n",
        "    'left_wrist_x', 'left_wrist_y',\n",
        "    'right_wrist_x', 'right_wrist_y',\n",
        "    'left_hip_x', 'left_hip_y',\n",
        "    'right_hip_x', 'right_hip_y',\n",
        "    'left_knee_x', 'left_knee_y',\n",
        "    'right_knee_x', 'right_knee_y',\n",
        "    'left_ankle_x', 'left_ankle_y',\n",
        "    'right_ankle_x', 'right_ankle_y',\n",
        "    'label'\n",
        "]\n",
        "\n",
        "seq_9 = seq_9[cols_order]\n",
        "\n",
        "seq_pro_9 = seq_pro_9[cols_order]\n",
        "\n",
        "\n",
        "combined_df = pd.concat([seq_9, seq_pro_9], ignore_index=True)\n",
        "\n",
        "combined_df['seq'] = combined_df.groupby('video').cumcount() % 9 + 1\n",
        "\n",
        "combined_df.to_csv('/content/drive/MyDrive/訓練/data/Data.csv', index=False)"
      ],
      "metadata": {
        "id": "1O4WMqY2LtBw"
      },
      "execution_count": null,
      "outputs": []
    }
  ]
}